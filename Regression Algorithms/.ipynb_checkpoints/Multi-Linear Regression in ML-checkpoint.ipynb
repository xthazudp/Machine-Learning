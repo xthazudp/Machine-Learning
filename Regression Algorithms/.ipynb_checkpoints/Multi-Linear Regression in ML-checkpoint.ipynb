{
 "cells": [
  {
   "cell_type": "code",
   "execution_count": null,
   "id": "f388cf7e",
   "metadata": {},
   "outputs": [],
   "source": [
    "# Multi-Linear Regression :\n",
    "# y = b0 + b1x1 + b2x2 + ... + bnxn + E, \n",
    "# b0 = y-intercept i.e, the value of y when both x1 & x2 are 0.\n",
    "# b1 & b2 are the regression coff. representing the change in y relative to one unit change in x1 & x2,respectively.\n",
    "# bn is the slope coeff. for each independent variable.\n",
    "# E = model's random error(residual) term.\n",
    "\n",
    "# MLR/multiple regression is a statistical technique that uses multiple linear regression. \n",
    "# It can predict the outcome of one variable using numerous factors. \n",
    "# Multiple regression attempts to model the linear relationship between independent and dependent variables."
   ]
  },
  {
   "cell_type": "code",
   "execution_count": null,
   "id": "c6ca73f6",
   "metadata": {},
   "outputs": [],
   "source": [
    "# Purpose of Multivariable Regression\n",
    "# Multivariable regression models are used to determine the relationship between a dependent variable (i.e., a desired outcome) and multiple independent variables."
   ]
  },
  {
   "cell_type": "code",
   "execution_count": null,
   "id": "0b4ee8db",
   "metadata": {},
   "outputs": [],
   "source": [
    "# Application of Multi-Regression :\n",
    "# Evalutae trends, Forecasting sales, Setup price of a House or Apartment"
   ]
  }
 ],
 "metadata": {
  "kernelspec": {
   "display_name": "Python 3 (ipykernel)",
   "language": "python",
   "name": "python3"
  },
  "language_info": {
   "codemirror_mode": {
    "name": "ipython",
    "version": 3
   },
   "file_extension": ".py",
   "mimetype": "text/x-python",
   "name": "python",
   "nbconvert_exporter": "python",
   "pygments_lexer": "ipython3",
   "version": "3.9.7"
  }
 },
 "nbformat": 4,
 "nbformat_minor": 5
}
