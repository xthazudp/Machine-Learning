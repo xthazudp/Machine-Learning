{
 "cells": [
  {
   "cell_type": "markdown",
   "id": "fb23b936",
   "metadata": {},
   "source": [
    "### What is a Regressor in ML?\n",
    "#### Regression is a supervised machine learning method for predicting continuous values. The regression algorithm's ultimate purpose is to plot the best-fit line or curve between the data. Variance, bias, and error are the three main metrics used to evaluate the trained regression model."
   ]
  },
  {
   "cell_type": "markdown",
   "id": "c34e2619",
   "metadata": {},
   "source": [
    "### How does model selection work?\n",
    "#### Model selection is a procedure in statistics that allows researchers to analyse the relative value of many statistical models in order to discover which one is the best match for the observed data. One of the most prominent approaches of model selection is the Akaike information criterion."
   ]
  },
  {
   "cell_type": "markdown",
   "id": "ba52e36f",
   "metadata": {},
   "source": [
    "### What is the goal of model selection in ML?\n",
    "#### The task of picking a statistical model from a group of candidate models given data is known as model selection. A pre-existing set of data is considered in the simplest circumstances. However, the assignment might also include experiment design so that the data acquired is well-suited to the model selection problem."
   ]
  },
  {
   "cell_type": "markdown",
   "id": "4e5085f9",
   "metadata": {},
   "source": [
    "### Why is model selection is important in ML?\n",
    "#### In order to optimally reveal the structure of the problem to the learning algorithm, certain techniques require specialised data preparation. As a result, we must take it a step further and define model selection as the act of choosing between several model development pipelines.\n",
    "#### Akaike Information Criterion (AIC) is a method for scoring and selection a model. AIC = -2/N*LL+2*K/N\n",
    "#### Bayesian Information Criterion (BIC) = -2*LL+log(N)*K"
   ]
  },
  {
   "cell_type": "markdown",
   "id": "00361a91",
   "metadata": {},
   "source": [
    "### What is the Purpose of model Selection?\n",
    "#### Model selection is a procedure in statistics that allows researchers to analyse the relative value of many statistical models in order to discover which one is the best match for the observed data. One of the most prominent approaches of model selection is the Akaike information criterion."
   ]
  }
 ],
 "metadata": {
  "kernelspec": {
   "display_name": "Python 3 (ipykernel)",
   "language": "python",
   "name": "python3"
  },
  "language_info": {
   "codemirror_mode": {
    "name": "ipython",
    "version": 3
   },
   "file_extension": ".py",
   "mimetype": "text/x-python",
   "name": "python",
   "nbconvert_exporter": "python",
   "pygments_lexer": "ipython3",
   "version": "3.9.7"
  }
 },
 "nbformat": 4,
 "nbformat_minor": 5
}
