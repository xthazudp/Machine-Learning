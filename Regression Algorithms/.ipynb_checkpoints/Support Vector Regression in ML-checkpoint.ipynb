{
 "cells": [
  {
   "cell_type": "code",
   "execution_count": null,
   "id": "e31a385a",
   "metadata": {},
   "outputs": [],
   "source": [
    "# The \"Support Vector Machine\" (SVM) is a supervised machine learning technique that can solve classification and regression problems.\n",
    "\n",
    "# SVR can solve linear and non-linear problems and works well for many pratical problems.\n",
    "\n",
    "# How SVM works in ML?\n",
    "# The hyperplane (which in two dimensions is essentially a line) that optimally separates the tags is produced by a support vector machine using these data points. \n",
    "# This line serves as a decision boundary: anything on one side will be classified as blue, while anything on the other will be classified as red."
   ]
  },
  {
   "cell_type": "code",
   "execution_count": 1,
   "id": "6951df13",
   "metadata": {},
   "outputs": [],
   "source": [
    "from sklearn.svm import SVR\n",
    "from sklearn.pipeline import make_pipeline\n",
    "from sklearn.preprocessing import StandardScaler\n",
    "import numpy as np"
   ]
  },
  {
   "cell_type": "code",
   "execution_count": 2,
   "id": "26f381c1",
   "metadata": {},
   "outputs": [],
   "source": [
    "n_samples,n_features=10,5"
   ]
  },
  {
   "cell_type": "code",
   "execution_count": 3,
   "id": "98064878",
   "metadata": {},
   "outputs": [],
   "source": [
    "r=np.random.RandomState(0)"
   ]
  },
  {
   "cell_type": "code",
   "execution_count": 4,
   "id": "6b8ac83e",
   "metadata": {},
   "outputs": [],
   "source": [
    "y=r.randn(n_samples)"
   ]
  },
  {
   "cell_type": "code",
   "execution_count": 5,
   "id": "b3f79948",
   "metadata": {},
   "outputs": [],
   "source": [
    "X=r.randn(n_samples,n_features)"
   ]
  },
  {
   "cell_type": "code",
   "execution_count": 6,
   "id": "829dafb2",
   "metadata": {},
   "outputs": [
    {
     "data": {
      "text/plain": [
       "array([[ 0.14404357,  1.45427351,  0.76103773,  0.12167502,  0.44386323],\n",
       "       [ 0.33367433,  1.49407907, -0.20515826,  0.3130677 , -0.85409574],\n",
       "       [-2.55298982,  0.6536186 ,  0.8644362 , -0.74216502,  2.26975462],\n",
       "       [-1.45436567,  0.04575852, -0.18718385,  1.53277921,  1.46935877],\n",
       "       [ 0.15494743,  0.37816252, -0.88778575, -1.98079647, -0.34791215],\n",
       "       [ 0.15634897,  1.23029068,  1.20237985, -0.38732682, -0.30230275],\n",
       "       [-1.04855297, -1.42001794, -1.70627019,  1.9507754 , -0.50965218],\n",
       "       [-0.4380743 , -1.25279536,  0.77749036, -1.61389785, -0.21274028],\n",
       "       [-0.89546656,  0.3869025 , -0.51080514, -1.18063218, -0.02818223],\n",
       "       [ 0.42833187,  0.06651722,  0.3024719 , -0.63432209, -0.36274117]])"
      ]
     },
     "execution_count": 6,
     "metadata": {},
     "output_type": "execute_result"
    }
   ],
   "source": [
    "X"
   ]
  },
  {
   "cell_type": "code",
   "execution_count": 7,
   "id": "3b204add",
   "metadata": {},
   "outputs": [
    {
     "data": {
      "text/plain": [
       "array([ 1.76405235,  0.40015721,  0.97873798,  2.2408932 ,  1.86755799,\n",
       "       -0.97727788,  0.95008842, -0.15135721, -0.10321885,  0.4105985 ])"
      ]
     },
     "execution_count": 7,
     "metadata": {},
     "output_type": "execute_result"
    }
   ],
   "source": [
    "y"
   ]
  },
  {
   "cell_type": "code",
   "execution_count": 8,
   "id": "2d3f13e3",
   "metadata": {},
   "outputs": [],
   "source": [
    "model=make_pipeline(StandardScaler(),SVR())"
   ]
  },
  {
   "cell_type": "code",
   "execution_count": 9,
   "id": "7bbd330b",
   "metadata": {},
   "outputs": [
    {
     "data": {
      "text/plain": [
       "Pipeline(steps=[('standardscaler', StandardScaler()), ('svr', SVR())])"
      ]
     },
     "execution_count": 9,
     "metadata": {},
     "output_type": "execute_result"
    }
   ],
   "source": [
    "model.fit(X,y)"
   ]
  },
  {
   "cell_type": "code",
   "execution_count": 10,
   "id": "1ca9c02d",
   "metadata": {},
   "outputs": [
    {
     "data": {
      "text/plain": [
       "array([ 0.80185075,  0.50050052,  0.93341268,  1.67234653,  0.89082705,\n",
       "        0.28538774,  0.8504317 , -0.05156277,  0.3322631 ,  0.31011751])"
      ]
     },
     "execution_count": 10,
     "metadata": {},
     "output_type": "execute_result"
    }
   ],
   "source": [
    "model.predict(X)"
   ]
  },
  {
   "cell_type": "code",
   "execution_count": null,
   "id": "aa562595",
   "metadata": {},
   "outputs": [],
   "source": []
  }
 ],
 "metadata": {
  "kernelspec": {
   "display_name": "Python 3 (ipykernel)",
   "language": "python",
   "name": "python3"
  },
  "language_info": {
   "codemirror_mode": {
    "name": "ipython",
    "version": 3
   },
   "file_extension": ".py",
   "mimetype": "text/x-python",
   "name": "python",
   "nbconvert_exporter": "python",
   "pygments_lexer": "ipython3",
   "version": "3.9.7"
  }
 },
 "nbformat": 4,
 "nbformat_minor": 5
}
