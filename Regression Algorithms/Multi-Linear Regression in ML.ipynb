{
 "cells": [
  {
   "cell_type": "code",
   "execution_count": null,
   "id": "f388cf7e",
   "metadata": {},
   "outputs": [],
   "source": [
    "# Multi-Linear Regression :\n",
    "# y = b0 + b1x1 + b2x2 + ... + bnxn + E, \n",
    "# b0 = y-intercept i.e, the value of y when both x1 & x2 are 0.\n",
    "# b1 & b2 are the regression coff. representing the change in y relative to one unit change in x1 & x2,respectively.\n",
    "# bn is the slope coeff. for each independent variable.\n",
    "# E = model's random error(residual) term.\n",
    "\n",
    "# MLR/multiple regression is a statistical technique that uses multiple linear regression. \n",
    "# It can predict the outcome of one variable using numerous factors. \n",
    "# Multiple regression attempts to model the linear relationship between independent and dependent variables."
   ]
  },
  {
   "cell_type": "code",
   "execution_count": null,
   "id": "c6ca73f6",
   "metadata": {},
   "outputs": [],
   "source": [
    "# Purpose of Multivariable Regression\n",
    "# Multivariable regression models are used to determine the relationship between a dependent variable (i.e., a desired outcome) and multiple independent variables."
   ]
  },
  {
   "cell_type": "code",
   "execution_count": null,
   "id": "0b4ee8db",
   "metadata": {},
   "outputs": [],
   "source": [
    "# Application of Multi-Regression :\n",
    "# Evalutae trends, Forecasting sales, Setup price of a House or Apartment"
   ]
  },
  {
   "cell_type": "code",
   "execution_count": null,
   "id": "0b8bd98c",
   "metadata": {},
   "outputs": [],
   "source": [
    "# Which regression is used for prediction in ML?\n",
    "# In ML, regression refers to mathematical techniques that allow data scientists to forecast a continuous outcome (y) based on the values of one or more predictor variables (x).\n",
    "# Because of its ease of application in predicting and forecasting, linear regression is perhaps the most popular type of regression analysis."
   ]
  },
  {
   "cell_type": "code",
   "execution_count": null,
   "id": "dd4fe83a",
   "metadata": {},
   "outputs": [],
   "source": [
    "# How can multiple regression be used as a prediction technique?\n",
    "# Multiple regression is a statistical method for examining the relationship between numerous independent variables and a single dependent variable. \n",
    "# The goal of multiple regression analysis is to predict the value of a single dependent variable by using known independent variables."
   ]
  },
  {
   "cell_type": "code",
   "execution_count": null,
   "id": "1688301c",
   "metadata": {},
   "outputs": [],
   "source": [
    "# Types of Regression in ML\n",
    "# 1.Linear Refression\n",
    "# 2.Logistic Regression"
   ]
  }
 ],
 "metadata": {
  "kernelspec": {
   "display_name": "Python 3 (ipykernel)",
   "language": "python",
   "name": "python3"
  },
  "language_info": {
   "codemirror_mode": {
    "name": "ipython",
    "version": 3
   },
   "file_extension": ".py",
   "mimetype": "text/x-python",
   "name": "python",
   "nbconvert_exporter": "python",
   "pygments_lexer": "ipython3",
   "version": "3.9.7"
  }
 },
 "nbformat": 4,
 "nbformat_minor": 5
}
