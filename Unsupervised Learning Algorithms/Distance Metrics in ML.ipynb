{
 "cells": [
  {
   "cell_type": "markdown",
   "id": "050457e5",
   "metadata": {},
   "source": [
    "### What is Distance Metrics in ML?\n",
    "Several machine learning techniques include distance measures as a significant component. These distance metrics are used to calculate the similarity between data points in both supervised and unsupervised learning.\n",
    "\n",
    "### What is the role of Distance measures ML?\n",
    "Machine learning relies heavily on distance metrics. The relative difference between two items in a problem area is summarised by a distance measure, which is an objective score. The K-means clustering technique is another unsupervised learning algorithm that relies on distance measures.\n",
    "\n",
    "### What is the use of Distance function in clustering?\n",
    "Distance-measuring techniques. The selection of distance measures is an important part of clustering. It controls the shape of the clusters by defining how the similarity of two elements (x, y) is determined.\n",
    "\n",
    "### What are the Distance metrics used?\n",
    "The following are the most commonly used distance metrics in machine learning:\n",
    "1.Euclidean Length\n",
    "2.Minkowski Length\n",
    "3.Manhattan Length\n",
    "4.Hamming Distance\n",
    "\n",
    "### How do you choose metric distance for clustering?\n",
    "The Euclidean distance is the default distance measure in most clustering applications. Other dissimilarity metrics may be preferred depending on the type of data and the researcher's questions. In gene expression data analysis, for example, correlation-based distance is frequently utilised.\n",
    "\n",
    "### What is Clustering?\n",
    "Clustering is a unsupervised machine learning technique. It groups the unlabelled data. It is a way of grouping the data points into different clusters, consisting of similar data points.\n",
    "\n",
    "### Types of Clustering :-\n",
    "1. Connectivity - based Clustering (Hierarchical clustering)\n",
    "2. Centroids - based Clustering (Partitioning Method)\n",
    "3. Distribution - based Clustering\n",
    "4. Density - based Clustering (Model-Based method)\n",
    "5. Fuzzy Clustering\n",
    "6. Constraint -  Based Clustering\n",
    "\n",
    "### Types of Clustering Algorithms :-\n",
    "1. K-Means Clustering\n",
    "2. Hierarchical Clustering"
   ]
  }
 ],
 "metadata": {
  "kernelspec": {
   "display_name": "Python 3 (ipykernel)",
   "language": "python",
   "name": "python3"
  },
  "language_info": {
   "codemirror_mode": {
    "name": "ipython",
    "version": 3
   },
   "file_extension": ".py",
   "mimetype": "text/x-python",
   "name": "python",
   "nbconvert_exporter": "python",
   "pygments_lexer": "ipython3",
   "version": "3.9.7"
  }
 },
 "nbformat": 4,
 "nbformat_minor": 5
}
