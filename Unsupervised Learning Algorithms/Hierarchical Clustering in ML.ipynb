{
 "cells": [
  {
   "cell_type": "markdown",
   "id": "309069e6",
   "metadata": {},
   "source": [
    "Agglomerative : This is called \"bottom-up\". Each observation starts in its own cluster and pairs of cluster are merged as one moves up the hierarchy."
   ]
  },
  {
   "cell_type": "markdown",
   "id": "287cb1d8",
   "metadata": {},
   "source": [
    "Divisive : This is called \"top-down\". All observation start in one cluster and splits are performed recursively as one moves down the hierarchy."
   ]
  },
  {
   "cell_type": "markdown",
   "id": "aa3cf45d",
   "metadata": {},
   "source": [
    "#### Agglomerative Clustering :"
   ]
  },
  {
   "cell_type": "code",
   "execution_count": 1,
   "id": "54de69e5",
   "metadata": {},
   "outputs": [],
   "source": [
    "from sklearn.cluster import AgglomerativeClustering\n",
    "import numpy as np"
   ]
  },
  {
   "cell_type": "code",
   "execution_count": 2,
   "id": "6f446fdd",
   "metadata": {},
   "outputs": [],
   "source": [
    "X=np.array([[1,2],[1,4],[1,0],[4,2],[4,4],[4,0]])"
   ]
  },
  {
   "cell_type": "code",
   "execution_count": 3,
   "id": "61b75358",
   "metadata": {},
   "outputs": [],
   "source": [
    "agc=AgglomerativeClustering()"
   ]
  },
  {
   "cell_type": "code",
   "execution_count": 4,
   "id": "cf65718a",
   "metadata": {},
   "outputs": [
    {
     "data": {
      "text/plain": [
       "AgglomerativeClustering()"
      ]
     },
     "execution_count": 4,
     "metadata": {},
     "output_type": "execute_result"
    }
   ],
   "source": [
    "agc.fit(X)"
   ]
  },
  {
   "cell_type": "code",
   "execution_count": 5,
   "id": "98e338b0",
   "metadata": {
    "scrolled": true
   },
   "outputs": [
    {
     "data": {
      "text/plain": [
       "array([1, 1, 1, 0, 0, 0], dtype=int64)"
      ]
     },
     "execution_count": 5,
     "metadata": {},
     "output_type": "execute_result"
    }
   ],
   "source": [
    "agc.labels_"
   ]
  },
  {
   "cell_type": "markdown",
   "id": "ea2f3f9c",
   "metadata": {},
   "source": [
    "#### Agglomerative Clustering in Iris dataset "
   ]
  },
  {
   "cell_type": "code",
   "execution_count": 7,
   "id": "49b59dc9",
   "metadata": {},
   "outputs": [],
   "source": [
    "from matplotlib import pyplot as plt\n",
    "from scipy.cluster.hierarchy import dendrogram\n",
    "from sklearn.datasets import load_iris"
   ]
  },
  {
   "cell_type": "code",
   "execution_count": 20,
   "id": "a41081b0",
   "metadata": {},
   "outputs": [],
   "source": [
    "def plot_dendrogram(model,**kwargs):\n",
    "    \n",
    "#linkage matrix -> dendrogram\n",
    "#count of sample under each nodes\n",
    "    counts = np.zeros(model.children_.shape[0])\n",
    "    n_samples=len(model.labels_)\n",
    "    for i, merge in enumerate(model.children_):\n",
    "        current_count=0\n",
    "        for child_idx in merge:\n",
    "            if child_idx < n_samples:\n",
    "                current_count+=1 #leaf node\n",
    "            else:\n",
    "                current_count += counts[child_idx-n_samples]\n",
    "            counts[i] = current_count\n",
    "        linkage_matrix=np.column_stack(\n",
    "            [model.children_,model.distances_,counts]\n",
    "        ).astype(float)\n",
    "    \n",
    "    dendrogram(linkage_matrix,**kwargs)"
   ]
  },
  {
   "cell_type": "code",
   "execution_count": 21,
   "id": "178e893e",
   "metadata": {},
   "outputs": [],
   "source": [
    "iris=load_iris()"
   ]
  },
  {
   "cell_type": "code",
   "execution_count": 22,
   "id": "3ee536ee",
   "metadata": {},
   "outputs": [],
   "source": [
    "X=iris.data"
   ]
  },
  {
   "cell_type": "code",
   "execution_count": 23,
   "id": "77b4a1bf",
   "metadata": {},
   "outputs": [],
   "source": [
    "model=AgglomerativeClustering(distance_threshold=0,n_clusters=None)"
   ]
  },
  {
   "cell_type": "code",
   "execution_count": 24,
   "id": "5b4ff34d",
   "metadata": {},
   "outputs": [
    {
     "data": {
      "text/plain": [
       "AgglomerativeClustering(distance_threshold=0, n_clusters=None)"
      ]
     },
     "execution_count": 24,
     "metadata": {},
     "output_type": "execute_result"
    }
   ],
   "source": [
    "model.fit(X)"
   ]
  },
  {
   "cell_type": "code",
   "execution_count": 25,
   "id": "a1e84d1e",
   "metadata": {},
   "outputs": [
    {
     "data": {
      "image/png": "[encoded data removed]",
      "text/plain": [
       "<Figure size 432x288 with 1 Axes>"
      ]
     },
     "metadata": {
      "needs_background": "light"
     },
     "output_type": "display_data"
    }
   ],
   "source": [
    "plot_dendrogram(model,truncate_mode='level',p=3)\n",
    "plt.xlabel(\"no. of points in a node or index of point if there is no parenthesis\")\n",
    "plt.show()"
   ]
  }
 ],
 "metadata": {
  "kernelspec": {
   "display_name": "Python 3 (ipykernel)",
   "language": "python",
   "name": "python3"
  },
  "language_info": {
   "codemirror_mode": {
    "name": "ipython",
    "version": 3
   },
   "file_extension": ".py",
   "mimetype": "text/x-python",
   "name": "python",
   "nbconvert_exporter": "python",
   "pygments_lexer": "ipython3",
   "version": "3.9.7"
  }
 },
 "nbformat": 4,
 "nbformat_minor": 5
}
